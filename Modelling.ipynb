{
  "nbformat": 4,
  "nbformat_minor": 0,
  "metadata": {
    "colab": {
      "provenance": [],
      "authorship_tag": "ABX9TyMD3jIyaQesJ/ElZMJNmlJf",
      "include_colab_link": true
    },
    "kernelspec": {
      "name": "python3",
      "display_name": "Python 3"
    },
    "language_info": {
      "name": "python"
    }
  },
  "cells": [
    {
      "cell_type": "markdown",
      "metadata": {
        "id": "view-in-github",
        "colab_type": "text"
      },
      "source": [
        "<a href=\"https://colab.research.google.com/github/Nilanjan1210/HEALTHCARE-INSURANCE-CHARGES-PREDICTION/blob/main/Modelling.ipynb\" target=\"_parent\"><img src=\"https://colab.research.google.com/assets/colab-badge.svg\" alt=\"Open In Colab\"/></a>"
      ]
    },
    {
      "cell_type": "code",
      "execution_count": 75,
      "metadata": {
        "id": "3_8L7xVcoYgF"
      },
      "outputs": [],
      "source": [
        "#  Import Libraries\n",
        "import pandas as pd\n",
        "import numpy as np\n",
        "\n",
        "import seaborn as sns\n",
        "import matplotlib.pyplot as plt\n",
        "\n",
        "import warnings\n",
        "warnings.filterwarnings('ignore')"
      ]
    },
    {
      "cell_type": "code",
      "source": [
        "url = \"https://raw.githubusercontent.com/Nilanjan1210/HEALTHCARE-INSURANCE-CHARGES-PREDICTION/main/insurance.csv\"\n",
        "df = pd.read_csv(url)\n"
      ],
      "metadata": {
        "id": "s4uj4_B6oxPZ"
      },
      "execution_count": 76,
      "outputs": []
    },
    {
      "cell_type": "code",
      "source": [
        "print(df.info())"
      ],
      "metadata": {
        "colab": {
          "base_uri": "https://localhost:8080/"
        },
        "id": "TfD7DE4tuBYf",
        "outputId": "a734862f-e4b0-411d-d672-de829aae9bb0"
      },
      "execution_count": 77,
      "outputs": [
        {
          "output_type": "stream",
          "name": "stdout",
          "text": [
            "<class 'pandas.core.frame.DataFrame'>\n",
            "RangeIndex: 1338 entries, 0 to 1337\n",
            "Data columns (total 7 columns):\n",
            " #   Column    Non-Null Count  Dtype  \n",
            "---  ------    --------------  -----  \n",
            " 0   age       1338 non-null   int64  \n",
            " 1   sex       1338 non-null   object \n",
            " 2   bmi       1338 non-null   float64\n",
            " 3   children  1338 non-null   int64  \n",
            " 4   smoker    1338 non-null   object \n",
            " 5   region    1338 non-null   object \n",
            " 6   charges   1338 non-null   float64\n",
            "dtypes: float64(2), int64(2), object(3)\n",
            "memory usage: 73.3+ KB\n",
            "None\n"
          ]
        }
      ]
    },
    {
      "cell_type": "code",
      "metadata": {
        "id": "bb5418b8"
      },
      "source": [
        "from sklearn.compose import ColumnTransformer\n",
        "from sklearn.pipeline import Pipeline\n",
        "from sklearn.preprocessing import StandardScaler, OneHotEncoder\n",
        "from sklearn.model_selection import train_test_split\n",
        "from sklearn.metrics import mean_squared_error, r2_score"
      ],
      "execution_count": 78,
      "outputs": []
    },
    {
      "cell_type": "code",
      "metadata": {
        "colab": {
          "base_uri": "https://localhost:8080/"
        },
        "id": "56b0e737",
        "outputId": "f8aa9f87-2886-4039-f972-fb1d30363952"
      },
      "source": [
        "numerical_features = df.select_dtypes(include=['int64', 'float64']).columns.tolist()\n",
        "categorical_features = df.select_dtypes(include=['object']).columns.tolist()\n",
        "numerical_features.remove('charges')\n",
        "print(\"Numerical features:\", numerical_features)\n",
        "print(\"Categorical features:\", categorical_features)\n",
        "\n",
        "\n",
        "numerical_transformer = StandardScaler()\n",
        "categorical_transformer = OneHotEncoder(handle_unknown='ignore', drop='first')\n",
        "\n",
        "preprocessor = ColumnTransformer(\n",
        "    transformers=[\n",
        "        ('num', numerical_transformer, numerical_features),\n",
        "        ('cat', categorical_transformer, categorical_features)\n",
        "    ])\n",
        "\n"
      ],
      "execution_count": 79,
      "outputs": [
        {
          "output_type": "stream",
          "name": "stdout",
          "text": [
            "Numerical features: ['age', 'bmi', 'children']\n",
            "Categorical features: ['sex', 'smoker', 'region']\n"
          ]
        }
      ]
    },
    {
      "cell_type": "code",
      "metadata": {
        "colab": {
          "base_uri": "https://localhost:8080/"
        },
        "id": "ff61f390",
        "outputId": "f880acb9-30f4-45b4-8f52-6850d3fdd386"
      },
      "source": [
        "X = df.drop('charges', axis=1)\n",
        "y = df['charges']\n",
        "\n",
        "X_train, X_test, y_train, y_test = train_test_split(X, y, test_size=0.2, random_state=42)\n",
        "\n",
        "print(\"Data splitting completed.\")\n",
        "print(\"X_train shape:\", X_train.shape)\n",
        "print(\"X_test shape:\", X_test.shape)\n",
        "print(\"y_train shape:\", y_train.shape)\n",
        "print(\"y_test shape:\", y_test.shape)"
      ],
      "execution_count": 80,
      "outputs": [
        {
          "output_type": "stream",
          "name": "stdout",
          "text": [
            "Data splitting completed.\n",
            "X_train shape: (1070, 6)\n",
            "X_test shape: (268, 6)\n",
            "y_train shape: (1070,)\n",
            "y_test shape: (268,)\n"
          ]
        }
      ]
    },
    {
      "cell_type": "markdown",
      "source": [
        "# Linear Rgression Model"
      ],
      "metadata": {
        "id": "vaXnQ4z0wE_3"
      }
    },
    {
      "cell_type": "code",
      "source": [
        "from sklearn.linear_model import LinearRegression"
      ],
      "metadata": {
        "id": "Pvp6026YwaKg"
      },
      "execution_count": 81,
      "outputs": []
    },
    {
      "cell_type": "code",
      "metadata": {
        "colab": {
          "base_uri": "https://localhost:8080/"
        },
        "id": "9470f3fb",
        "outputId": "52059ace-b8f7-499e-e75b-696d7991a23c"
      },
      "source": [
        "linear_regression_model = LinearRegression()\n",
        "\n",
        "model_lr = Pipeline(steps=[('preprocessor', preprocessor),\n",
        "                        ('regressor', linear_regression_model)])\n",
        "\n",
        "print(\"Pipeline created successfully.\")"
      ],
      "execution_count": 82,
      "outputs": [
        {
          "output_type": "stream",
          "name": "stdout",
          "text": [
            "Pipeline created successfully.\n"
          ]
        }
      ]
    },
    {
      "cell_type": "code",
      "metadata": {
        "colab": {
          "base_uri": "https://localhost:8080/"
        },
        "id": "7c734ec0",
        "outputId": "afc65d69-dc26-446d-8fb7-7c55dfdbd8f2"
      },
      "source": [
        "model_lr.fit(X_train, y_train)\n",
        "print(\"Pipeline fitted to training data.\")"
      ],
      "execution_count": 83,
      "outputs": [
        {
          "output_type": "stream",
          "name": "stdout",
          "text": [
            "Pipeline fitted to training data.\n"
          ]
        }
      ]
    },
    {
      "cell_type": "code",
      "metadata": {
        "colab": {
          "base_uri": "https://localhost:8080/"
        },
        "id": "6085914f",
        "outputId": "a17a42c1-5fbd-4d04-ecd6-a1d3fb43849f"
      },
      "source": [
        "y_pred = model_lr.predict(X_test)\n",
        "\n",
        "mse = mean_squared_error(y_test, y_pred)\n",
        "r2 = r2_score(y_test, y_pred)\n",
        "\n",
        "print(f\"Mean Squared Error on Test Data: {mse}\")\n",
        "print(f\"R-squared Score on Test Data: {r2}\")"
      ],
      "execution_count": 84,
      "outputs": [
        {
          "output_type": "stream",
          "name": "stdout",
          "text": [
            "Mean Squared Error on Test Data: 33596915.85136146\n",
            "R-squared Score on Test Data: 0.7835929767120723\n"
          ]
        }
      ]
    },
    {
      "cell_type": "markdown",
      "source": [
        "# Decision Tree Regressor model"
      ],
      "metadata": {
        "id": "wORiXeNlwJ-o"
      }
    },
    {
      "cell_type": "code",
      "source": [
        "from sklearn.tree import DecisionTreeRegressor"
      ],
      "metadata": {
        "id": "h_uFbEqEwWdu"
      },
      "execution_count": 85,
      "outputs": []
    },
    {
      "cell_type": "code",
      "source": [
        "decision_tree_model = DecisionTreeRegressor(random_state=12)\n",
        "\n",
        "\n",
        "model_dt = Pipeline(steps=[('preprocessor', preprocessor),\n",
        "                        ('regressor', decision_tree_model)])\n",
        "\n",
        "print(\"Decision Tree Pipeline created successfully.\")\n"
      ],
      "metadata": {
        "colab": {
          "base_uri": "https://localhost:8080/"
        },
        "id": "vWvcoqGAv6yC",
        "outputId": "ec2d4b5a-ee2b-4e08-fe62-4df3e6a9965c"
      },
      "execution_count": 86,
      "outputs": [
        {
          "output_type": "stream",
          "name": "stdout",
          "text": [
            "Decision Tree Pipeline created successfully.\n"
          ]
        }
      ]
    },
    {
      "cell_type": "code",
      "source": [
        "# Fit the pipeline to the training data\n",
        "model_dt.fit(X_train, y_train)\n",
        "print(\"Decision Tree Pipeline fitted to training data.\")"
      ],
      "metadata": {
        "colab": {
          "base_uri": "https://localhost:8080/"
        },
        "id": "BhAF058cwlGN",
        "outputId": "aed4011c-ceb8-40f6-de46-7000288919b0"
      },
      "execution_count": 87,
      "outputs": [
        {
          "output_type": "stream",
          "name": "stdout",
          "text": [
            "Decision Tree Pipeline fitted to training data.\n"
          ]
        }
      ]
    },
    {
      "cell_type": "code",
      "source": [
        "# Make predictions on the test data\n",
        "y_pred_dt = model_dt.predict(X_test)"
      ],
      "metadata": {
        "id": "26EngYODwoRi"
      },
      "execution_count": 88,
      "outputs": []
    },
    {
      "cell_type": "code",
      "source": [
        "# Evaluate the model\n",
        "mse_dt = mean_squared_error(y_test, y_pred_dt)\n",
        "r2_dt = r2_score(y_test, y_pred_dt)\n",
        "\n",
        "print(f\"\\nDecision Tree Regressor Performance:\")\n",
        "print(f\"Mean Squared Error on Test Data: {mse_dt}\")\n",
        "print(f\"R-squared Score on Test Data: {r2_dt}\")"
      ],
      "metadata": {
        "colab": {
          "base_uri": "https://localhost:8080/"
        },
        "id": "JyLbwYcOwrZx",
        "outputId": "36706653-a971-4939-e6b0-e5b1703b607a"
      },
      "execution_count": 89,
      "outputs": [
        {
          "output_type": "stream",
          "name": "stdout",
          "text": [
            "\n",
            "Decision Tree Regressor Performance:\n",
            "Mean Squared Error on Test Data: 45372795.57668561\n",
            "R-squared Score on Test Data: 0.707741279811424\n"
          ]
        }
      ]
    },
    {
      "cell_type": "markdown",
      "source": [
        "# Ridge Regression"
      ],
      "metadata": {
        "id": "tMK6fHl6xM1S"
      }
    },
    {
      "cell_type": "code",
      "source": [
        "from sklearn.linear_model import Ridge\n",
        "from sklearn.model_selection import GridSearchCV"
      ],
      "metadata": {
        "id": "V3-6zygsx0q6"
      },
      "execution_count": 90,
      "outputs": []
    },
    {
      "cell_type": "code",
      "source": [
        "# Define the Ridge Regression model\n",
        "ridge_model = Ridge(random_state=12)\n",
        "\n",
        "# Create a pipeline for the Ridge model\n",
        "model_ridge = Pipeline(steps=[('preprocessor', preprocessor),\n",
        "                         ('regressor', ridge_model)])\n",
        "\n",
        "print(\"Ridge Regression Pipeline created successfully.\")"
      ],
      "metadata": {
        "colab": {
          "base_uri": "https://localhost:8080/"
        },
        "id": "gm6MX00bx3gT",
        "outputId": "9ced5517-c47a-4cfa-900b-f69fe89ae227"
      },
      "execution_count": 91,
      "outputs": [
        {
          "output_type": "stream",
          "name": "stdout",
          "text": [
            "Ridge Regression Pipeline created successfully.\n"
          ]
        }
      ]
    },
    {
      "cell_type": "code",
      "source": [
        "# Define the parameter grid for hyperparameter tuning\n",
        "param_grid = {'regressor__alpha': [0.1, 1.0, 10.0, 100.0]}\n",
        "\n",
        "# Perform GridSearchCV\n",
        "grid_search_ridge = GridSearchCV(model_ridge, param_grid, cv=5, scoring='r2')\n",
        "\n",
        "# Fit the GridSearchCV to the training data\n",
        "grid_search_ridge.fit(X_train, y_train)\n",
        "print(\"GridSearchCV for Ridge Regression completed.\")"
      ],
      "metadata": {
        "colab": {
          "base_uri": "https://localhost:8080/"
        },
        "id": "bihC9kAwx6BC",
        "outputId": "847b5e2c-1be0-46d2-b6c0-74fd21a92ad2"
      },
      "execution_count": 92,
      "outputs": [
        {
          "output_type": "stream",
          "name": "stdout",
          "text": [
            "GridSearchCV for Ridge Regression completed.\n"
          ]
        }
      ]
    },
    {
      "cell_type": "code",
      "source": [
        "# Get the best parameters and best score\n",
        "best_params_ridge = grid_search_ridge.best_params_\n",
        "best_score_ridge = grid_search_ridge.best_score_\n",
        "\n",
        "print(f\"\\nBest parameters for Ridge Regression: {best_params_ridge}\")\n",
        "print(f\"Best R-squared score from GridSearchCV (cross-validation): {best_score_ridge}\")"
      ],
      "metadata": {
        "colab": {
          "base_uri": "https://localhost:8080/"
        },
        "id": "va1mYgreyA1_",
        "outputId": "17b06138-a852-49bb-ddd2-f0746308c707"
      },
      "execution_count": 93,
      "outputs": [
        {
          "output_type": "stream",
          "name": "stdout",
          "text": [
            "\n",
            "Best parameters for Ridge Regression: {'regressor__alpha': 1.0}\n",
            "Best R-squared score from GridSearchCV (cross-validation): 0.7331517321187977\n"
          ]
        }
      ]
    },
    {
      "cell_type": "code",
      "source": [
        "# Evaluate the best model on the test data\n",
        "best_ridge_model = grid_search_ridge.best_estimator_\n",
        "y_pred_ridge = best_ridge_model.predict(X_test)\n",
        "\n",
        "mse_ridge = mean_squared_error(y_test, y_pred_ridge)\n",
        "r2_ridge = r2_score(y_test, y_pred_ridge)\n",
        "\n",
        "print(f\"\\nRidge Regressor Performance on Test Data (with best parameters):\")\n",
        "print(f\"Mean Squared Error: {mse_ridge}\")\n",
        "print(f\"R-squared Score: {r2_ridge}\")"
      ],
      "metadata": {
        "colab": {
          "base_uri": "https://localhost:8080/"
        },
        "id": "D9VlO3lXxUNr",
        "outputId": "1f5d50aa-a386-43df-b7c3-9cb9a1da4aeb"
      },
      "execution_count": 94,
      "outputs": [
        {
          "output_type": "stream",
          "name": "stdout",
          "text": [
            "\n",
            "Ridge Regressor Performance on Test Data (with best parameters):\n",
            "Mean Squared Error: 33645393.49385556\n",
            "R-squared Score: 0.7832807188145148\n"
          ]
        }
      ]
    },
    {
      "cell_type": "markdown",
      "source": [
        "#  LASSO"
      ],
      "metadata": {
        "id": "bCdYH_CHxU55"
      }
    },
    {
      "cell_type": "code",
      "source": [
        "from sklearn.linear_model import Lasso\n",
        "from sklearn.model_selection import GridSearchCV\n"
      ],
      "metadata": {
        "id": "fDm-XghayK2T"
      },
      "execution_count": 95,
      "outputs": []
    },
    {
      "cell_type": "code",
      "source": [
        "# Define the LASSO Regression model\n",
        "lasso_model = Lasso(random_state=12)\n",
        "\n",
        "# Create a pipeline for the LASSO model\n",
        "model_lasso = Pipeline(steps=[('preprocessor', preprocessor),\n",
        "                         ('regressor', lasso_model)])\n",
        "\n",
        "print(\"LASSO Regression Pipeline created successfully.\")"
      ],
      "metadata": {
        "colab": {
          "base_uri": "https://localhost:8080/"
        },
        "id": "KgU1mtvvyMqa",
        "outputId": "70b3a396-4d59-4359-a12f-7a217af30e71"
      },
      "execution_count": 96,
      "outputs": [
        {
          "output_type": "stream",
          "name": "stdout",
          "text": [
            "LASSO Regression Pipeline created successfully.\n"
          ]
        }
      ]
    },
    {
      "cell_type": "code",
      "source": [
        "# Define the parameter grid for hyperparameter tuning\n",
        "param_grid = {'regressor__alpha': [0.1, 1.0, 10.0, 100.0]}\n",
        "\n",
        "# Perform GridSearchCV\n",
        "grid_search_lasso = GridSearchCV(model_lasso, param_grid, cv=5, scoring='r2')\n",
        "\n",
        "# Fit the GridSearchCV to the training data\n",
        "grid_search_lasso.fit(X_train, y_train)\n",
        "print(\"GridSearchCV for LASSO Regression completed.\")"
      ],
      "metadata": {
        "colab": {
          "base_uri": "https://localhost:8080/"
        },
        "id": "2hlGThXDyOxk",
        "outputId": "9481e834-1074-42f2-e845-03c177c9cb5d"
      },
      "execution_count": 97,
      "outputs": [
        {
          "output_type": "stream",
          "name": "stdout",
          "text": [
            "GridSearchCV for LASSO Regression completed.\n"
          ]
        }
      ]
    },
    {
      "cell_type": "code",
      "source": [
        "# Get the best parameters and best score\n",
        "best_params_lasso = grid_search_lasso.best_params_\n",
        "best_score_lasso = grid_search_lasso.best_score_\n",
        "\n",
        "print(f\"\\nBest parameters for LASSO Regression: {best_params_lasso}\")\n",
        "print(f\"Best R-squared score from GridSearchCV (cross-validation): {best_score_lasso}\")"
      ],
      "metadata": {
        "colab": {
          "base_uri": "https://localhost:8080/"
        },
        "id": "w7yWKcdDyQrK",
        "outputId": "5f9cabaa-8909-4904-c752-5a9d90d480b3"
      },
      "execution_count": 98,
      "outputs": [
        {
          "output_type": "stream",
          "name": "stdout",
          "text": [
            "\n",
            "Best parameters for LASSO Regression: {'regressor__alpha': 100.0}\n",
            "Best R-squared score from GridSearchCV (cross-validation): 0.7342401046625667\n"
          ]
        }
      ]
    },
    {
      "cell_type": "code",
      "source": [
        "# Evaluate the best model on the test data\n",
        "best_lasso_model = grid_search_lasso.best_estimator_\n",
        "y_pred_lasso = best_lasso_model.predict(X_test)\n",
        "\n",
        "mse_lasso = mean_squared_error(y_test, y_pred_lasso)\n",
        "r2_lasso = r2_score(y_test, y_pred_lasso)\n",
        "\n",
        "print(f\"\\nLASSO Regressor Performance on Test Data (with best parameters):\")\n",
        "print(f\"Mean Squared Error: {mse_lasso}\")\n",
        "print(f\"R-squared Score: {r2_lasso}\")"
      ],
      "metadata": {
        "colab": {
          "base_uri": "https://localhost:8080/"
        },
        "id": "eTZLcYhWxWpL",
        "outputId": "162d29b9-ff2d-4b67-c795-85ee622a8cd9"
      },
      "execution_count": 99,
      "outputs": [
        {
          "output_type": "stream",
          "name": "stdout",
          "text": [
            "\n",
            "LASSO Regressor Performance on Test Data (with best parameters):\n",
            "Mean Squared Error: 34266062.50186862\n",
            "R-squared Score: 0.7792828181421608\n"
          ]
        }
      ]
    },
    {
      "cell_type": "markdown",
      "source": [
        "# Random Forest model"
      ],
      "metadata": {
        "id": "kL-vTnOiw0_o"
      }
    },
    {
      "cell_type": "code",
      "source": [
        "from sklearn.ensemble import RandomForestRegressor"
      ],
      "metadata": {
        "id": "I6mmvWKfw5XC"
      },
      "execution_count": 100,
      "outputs": []
    },
    {
      "cell_type": "code",
      "source": [
        "# Define the Random Forest Regressor model\n",
        "random_forest_model = RandomForestRegressor(random_state=42)\n",
        "\n",
        "# Create a pipeline for the Random Forest model\n",
        "model_rf = Pipeline(steps=[('preprocessor', preprocessor),\n",
        "                         ('regressor', random_forest_model)])\n",
        "print(\"Random Forest Pipeline created successfully.\")\n"
      ],
      "metadata": {
        "colab": {
          "base_uri": "https://localhost:8080/"
        },
        "id": "XBRKfh2Ww7RG",
        "outputId": "664fb117-80e1-4099-c079-ddcf2d345139"
      },
      "execution_count": 101,
      "outputs": [
        {
          "output_type": "stream",
          "name": "stdout",
          "text": [
            "Random Forest Pipeline created successfully.\n"
          ]
        }
      ]
    },
    {
      "cell_type": "code",
      "source": [
        "# Fit the pipeline to the training data\n",
        "model_rf.fit(X_train, y_train)\n",
        "print(\"Random Forest Pipeline fitted to training data.\")"
      ],
      "metadata": {
        "colab": {
          "base_uri": "https://localhost:8080/"
        },
        "id": "QH90YDK5xBAR",
        "outputId": "dbf6b4ab-1ba0-4b50-d772-a010eb56367f"
      },
      "execution_count": 102,
      "outputs": [
        {
          "output_type": "stream",
          "name": "stdout",
          "text": [
            "Random Forest Pipeline fitted to training data.\n"
          ]
        }
      ]
    },
    {
      "cell_type": "code",
      "source": [
        "# Make predictions on the test data\n",
        "y_pred_rf = model_rf.predict(X_test)\n",
        "\n",
        "# Evaluate the model\n",
        "mse_rf = mean_squared_error(y_test, y_pred_rf)\n",
        "r2_rf = r2_score(y_test, y_pred_rf)\n",
        "\n",
        "print(f\"\\nRandom Forest Regressor Performance:\")\n",
        "print(f\"Mean Squared Error on Test Data: {mse_rf}\")\n",
        "print(f\"R-squared Score on Test Data: {r2_rf}\")"
      ],
      "metadata": {
        "colab": {
          "base_uri": "https://localhost:8080/"
        },
        "id": "dnx5LUpExC8v",
        "outputId": "00723167-4665-4683-fdfb-0c844aef21ae"
      },
      "execution_count": 103,
      "outputs": [
        {
          "output_type": "stream",
          "name": "stdout",
          "text": [
            "\n",
            "Random Forest Regressor Performance:\n",
            "Mean Squared Error on Test Data: 20864569.513376206\n",
            "R-squared Score on Test Data: 0.8656055394920775\n"
          ]
        }
      ]
    },
    {
      "cell_type": "code",
      "source": [
        "# Define the Random Forest Regressor model\n",
        "random_forest_model = RandomForestRegressor(random_state=42)\n",
        "\n",
        "# Create a pipeline for the Random Forest model\n",
        "model_rf = Pipeline(steps=[('preprocessor', preprocessor),\n",
        "                         ('regressor', random_forest_model)])\n",
        "\n",
        "print(\"Random Forest Pipeline created successfully.\")"
      ],
      "metadata": {
        "colab": {
          "base_uri": "https://localhost:8080/"
        },
        "id": "TxO33Ra3yr6n",
        "outputId": "1947707a-9ce6-42af-b859-b06d7a47f292"
      },
      "execution_count": 104,
      "outputs": [
        {
          "output_type": "stream",
          "name": "stdout",
          "text": [
            "Random Forest Pipeline created successfully.\n"
          ]
        }
      ]
    },
    {
      "cell_type": "code",
      "source": [
        "# Define the parameter grid for hyperparameter tuning\n",
        "param_grid_rf = {\n",
        "    'regressor__n_estimators': [100, 200],\n",
        "    'regressor__max_depth': [10, 20, None],\n",
        "    'regressor__min_samples_split': [2, 5],\n",
        "    'regressor__min_samples_leaf': [1, 2]\n",
        "}"
      ],
      "metadata": {
        "id": "Nlr6yH-ZyuHL"
      },
      "execution_count": 105,
      "outputs": []
    },
    {
      "cell_type": "code",
      "source": [
        "# Perform GridSearchCV\n",
        "grid_search_rf = GridSearchCV(model_rf, param_grid_rf, cv=3, scoring='r2', n_jobs=-1)\n",
        "\n",
        "# Fit the GridSearchCV to the training data\n",
        "grid_search_rf.fit(X_train, y_train)\n",
        "print(\"GridSearchCV for Random Forest Regression completed.\")"
      ],
      "metadata": {
        "colab": {
          "base_uri": "https://localhost:8080/"
        },
        "id": "LEAJLC_yy0R9",
        "outputId": "8840657c-7e2e-429a-fd69-cb89f1c56bef"
      },
      "execution_count": 73,
      "outputs": [
        {
          "output_type": "stream",
          "name": "stdout",
          "text": [
            "GridSearchCV for Random Forest Regression completed.\n"
          ]
        }
      ]
    },
    {
      "cell_type": "code",
      "source": [
        "\n",
        "# Get the best parameters and best score\n",
        "best_params_rf = grid_search_rf.best_params_\n",
        "best_score_rf = grid_search_rf.best_score_\n",
        "\n",
        "print(f\"\\nBest parameters for Random Forest Regression: {best_params_rf}\")\n",
        "print(f\"Best R-squared score from GridSearchCV (cross-validation): {best_score_rf}\")"
      ],
      "metadata": {
        "colab": {
          "base_uri": "https://localhost:8080/"
        },
        "id": "qmXVnwN4y21g",
        "outputId": "c6d8ae36-af0d-488d-a1d7-ae1217fba0a6"
      },
      "execution_count": 74,
      "outputs": [
        {
          "output_type": "stream",
          "name": "stdout",
          "text": [
            "\n",
            "Best parameters for Random Forest Regression: {'regressor__max_depth': 20, 'regressor__min_samples_leaf': 2, 'regressor__min_samples_split': 5, 'regressor__n_estimators': 200}\n",
            "Best R-squared score from GridSearchCV (cross-validation): 0.8374127799124705\n"
          ]
        }
      ]
    },
    {
      "cell_type": "code",
      "source": [
        "# Evaluate the best model on the test data\n",
        "best_rf_model = grid_search_rf.best_estimator_\n",
        "y_pred_rf_tuned = best_rf_model.predict(X_test)\n",
        "\n",
        "mse_rf_tuned = mean_squared_error(y_test, y_pred_rf_tuned)\n",
        "r2_rf_tuned = r2_score(y_test, y_pred_rf_tuned)\n",
        "\n",
        "print(f\"\\nRandom Forest Regressor Performance on Test Data (with best parameters):\")\n",
        "print(f\"Mean Squared Error: {mse_rf_tuned}\")\n",
        "print(f\"R-squared Score: {r2_rf_tuned}\")"
      ],
      "metadata": {
        "colab": {
          "base_uri": "https://localhost:8080/"
        },
        "id": "NrgfzxL2xnd2",
        "outputId": "1c8fc7e5-724a-4a03-b48e-fae72020798c"
      },
      "execution_count": 106,
      "outputs": [
        {
          "output_type": "stream",
          "name": "stdout",
          "text": [
            "\n",
            "Random Forest Regressor Performance on Test Data (with best parameters):\n",
            "Mean Squared Error: 19440495.946652498\n",
            "R-squared Score: 0.8747783910383665\n"
          ]
        }
      ]
    }
  ]
}